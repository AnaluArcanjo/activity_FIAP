{
 "cells": [
  {
   "cell_type": "markdown",
   "metadata": {
    "vscode": {
     "languageId": "powershell"
    }
   },
   "source": [
    "- IF, ELSE, ELIF\n"
   ]
  },
  {
   "cell_type": "code",
   "execution_count": null,
   "metadata": {},
   "outputs": [],
   "source": [
    "import math\n",
    "#solicitando os valores de A, B e C\n",
    "a = float(input(\"Informe o valor de A\"))\n",
    "b = float(input(\"Informe o valor de B\"))\n",
    "c = float(input(\"Informe o valor de C\"))\n",
    "#cálculo do delta\n",
    "delta = b * b - 4 * a *c\n",
    "# verificação das condições com if encadeado\n",
    "if delta > 0.0:\n",
    "    # cálculo de 2 valores para x\n",
    "    x1 = (-b + math.sqrt(delta)) / (2 * a)\n",
    "    x2 = (-b - math.sqrt(delta)) / (2 * a)\n",
    "    print(\"Para a equação {}x² + {}x + {} = 0, obtivemos os seguintes valores: x1 = {} e x2 = {}\".format(a, b, c, x1, x2))\n",
    "else:\n",
    "    if delta == 0:\n",
    "        # cálculo de 1 valor para x\n",
    "        x = (-b + math.sqrt(delta)) / (2 * a)\n",
    "        print(\"Para a equação {}x² + {}x + {} = 0, obtivemos o seguinte valor: x = {}\".format(a, b, c, x))\n",
    "    else:\n",
    "        # exibição da mensagem\n",
    "        print(\"Para a equação {}x² + {}x + {} = 0, não existem valores reais para x\".format(a, b, c))\n",
    "    \n"
   ]
  },
  {
   "cell_type": "code",
   "execution_count": null,
   "metadata": {},
   "outputs": [],
   "source": [
    "#script"
   ]
  }
 ],
 "metadata": {
  "language_info": {
   "name": "python"
  }
 },
 "nbformat": 4,
 "nbformat_minor": 2
}
